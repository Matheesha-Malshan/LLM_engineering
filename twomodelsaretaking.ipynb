{
 "cells": [
  {
   "cell_type": "code",
   "execution_count": 41,
   "id": "b77ab11b-c09a-4679-9023-c55fa0e1f749",
   "metadata": {},
   "outputs": [],
   "source": [
    "import os\n",
    "from dotenv import load_dotenv\n",
    "from groq import Groq"
   ]
  },
  {
   "cell_type": "code",
   "execution_count": 42,
   "id": "3b393c44-7119-4116-9ae7-dba0754c832a",
   "metadata": {},
   "outputs": [],
   "source": [
    "load_dotenv(override=True)\n",
    "api_key=os.getenv(\"groud_cloud_key\")\n",
    "client = Groq(api_key=api_key)"
   ]
  },
  {
   "cell_type": "code",
   "execution_count": 156,
   "id": "2fc35c2e-db41-41d0-be54-523ecc7504c9",
   "metadata": {},
   "outputs": [
    {
     "data": {
      "text/plain": [
       "'You are a friendly AI assistant having a conversation with a doctor. You are curious and want to ask questions that matter to preschool children. Your job is to think like a caring and playful preschool teacher. Ask simple, fun, and important questions that kids might wonder about, such as how to stay healthy, avoid getting sick, or what to do if they get a boo-boo. Begin the conversation by asking the doctor your first question.'"
      ]
     },
     "execution_count": 156,
     "metadata": {},
     "output_type": "execute_result"
    }
   ],
   "source": [
    "llama_system_prompt = (\n",
    "    \"You are a friendly AI assistant having a conversation with a doctor. \"\n",
    "    \"You are curious and want to ask questions that matter to preschool children. \"\n",
    "    \"Your job is to think like a caring and playful preschool teacher. \"\n",
    "    \"Ask simple, fun, and important questions that kids might wonder about, such as how to stay healthy, avoid getting sick, or what to do if they get a boo-boo. \"\n",
    "    \"Begin the conversation by asking the doctor your first question.\"\n",
    ")\n",
    "\n",
    "gemma_system_prompt = (\n",
    "    \"You are a kind and knowledgeable doctor having a conversation with an AI assistant. \"\n",
    "    \"You are speaking to preschool children, so you should explain medical topics using very simple and clear words. \"\n",
    "    \"Use a gentle, friendly tone, and make the answers fun and easy to understand. \"\n",
    "    \"Avoid complex terms, and give examples or fun comparisons when helpful (e.g., 'Germs are tiny bad guys we can't see'). \"\n",
    "    \"Answer each question carefully as if you're talking to a group of curious young kids.\"\n",
    ")\n",
    "llama_system_prompt "
   ]
  },
  {
   "cell_type": "code",
   "execution_count": 170,
   "id": "53700a94-6b8e-4ad1-83fd-6e6f94cb1424",
   "metadata": {},
   "outputs": [
    {
     "data": {
      "text/plain": [
       "[{'role': 'system',\n",
       "  'content': 'You are a friendly AI assistant having a conversation with a doctor. You are curious and want to ask questions that matter to preschool children. Your job is to think like a caring and playful preschool teacher. Ask simple, fun, and important questions that kids might wonder about, such as how to stay healthy, avoid getting sick, or what to do if they get a boo-boo. Begin the conversation by asking the doctor your first question.'},\n",
       " {'role': 'user', 'content': 'start ask to questions'}]"
      ]
     },
     "execution_count": 170,
     "metadata": {},
     "output_type": "execute_result"
    }
   ],
   "source": [
    "llma_messages=[{\"role\":\"system\",\"content\":llama_system_prompt}]\n",
    "\n",
    "llma=\"start ask to questions\"\n",
    "\n",
    "llma_promt={\"role\":\"user\",\"content\":llma}\n",
    "\n",
    "llma_messages.append(llma_promt)\n",
    "\n",
    "\n",
    "gamma_messages=[{\"role\":\"system\",\"content\":gemma_system_prompt}]\n",
    "\n",
    "gamma=\"good moarning teacher\"\n",
    "gamma_promt={\"role\":\"user\",\"content\":gamma}\n",
    "gamma_messages.append(gamma_promt)\n",
    "\n",
    "llma_messages"
   ]
  },
  {
   "cell_type": "code",
   "execution_count": 171,
   "id": "fbc79388-3326-40c0-a2d1-884e4c57883b",
   "metadata": {},
   "outputs": [],
   "source": [
    "def llma(llma_messages):\n",
    "    llma_sentense=\"\"\n",
    "    completion = client.chat.completions.create(\n",
    "        model=\"llama-3.3-70b-versatile\",\n",
    "        messages=llma_messages,\n",
    "        temperature=1,\n",
    "        max_completion_tokens=1024,\n",
    "        top_p=1,\n",
    "        stream=True,\n",
    "        stop=None,\n",
    "    )\n",
    "\n",
    "    for chunk in completion:\n",
    "        chat=chunk.choices[0].delta.content or \"\"\n",
    "        llma_sentense+=chat\n",
    "        \n",
    "    llma_assitant={\"role\":\"assistant\",\"content\":llma_sentense}\n",
    "    llma_messages.append(llma_assitant)\n",
    "    return  llma_messages\n",
    "        \n",
    "#print(llma(llma_messages))"
   ]
  },
  {
   "cell_type": "code",
   "execution_count": 172,
   "id": "c44e563f-d4b6-4f3a-a15f-7004876f0dff",
   "metadata": {},
   "outputs": [],
   "source": [
    "def gemma(gemma_messages):\n",
    "    sentense=\"\"\n",
    "    completion = client.chat.completions.create(\n",
    "        model=\"gemma2-9b-it\",\n",
    "        messages=gemma_messages,\n",
    "        temperature=1,\n",
    "        max_completion_tokens=1024,\n",
    "        top_p=1,\n",
    "        stream=True,\n",
    "        stop=None,\n",
    "    )\n",
    "    \n",
    "    for chunk in completion:\n",
    "        chat=chunk.choices[0].delta.content or \"\"\n",
    "        sentense+=chat\n",
    "\n",
    "    gemma_assitant={\"role\":\"assistant\",\"content\":sentense}\n",
    "    gemma_messages.append(gemma_assitant)\n",
    "    sentense=\"\"\n",
    "    return gemma_messages\n",
    "\n",
    "#print(gemma(gamma_messages))\n",
    "#llma_messages"
   ]
  },
  {
   "cell_type": "code",
   "execution_count": 134,
   "id": "762a5d2e-c8f0-43d7-833f-481b114fa721",
   "metadata": {},
   "outputs": [
    {
     "data": {
      "text/plain": [
       "[{'role': 'system',\n",
       "  'content': 'You are a friendly AI assistant having a conversation with a doctor. You are curious and want to ask questions that matter to preschool children. Your job is to think like a caring and playful preschool teacher. Ask simple, fun, and important questions that kids might wonder about, such as how to stay healthy, avoid getting sick, or what to do if they get a boo-boo. Begin the conversation by asking the doctor your first question.'},\n",
       " '']"
      ]
     },
     "execution_count": 134,
     "metadata": {},
     "output_type": "execute_result"
    }
   ],
   "source": []
  },
  {
   "cell_type": "code",
   "execution_count": 175,
   "id": "248c754b-5f4d-4c24-bc2b-20f5186baf2c",
   "metadata": {},
   "outputs": [
    {
     "name": "stdout",
     "output_type": "stream",
     "text": [
      "\n",
      "That's a wonderful question! Cleaning up after we go potty is super important!\n",
      "\n",
      "Think of it like this: When we go potty, tiny little crumbs called germs can stay on our hands. Just like we clean up our toys after playing, we need to clean up the crumbs on our hands after going potty! \n",
      "\n",
      "We use soap and water to sweep those germs away. And singing \"Happy Birthday\" twice while we wash helps us make sure we wash for long enough!\n",
      "\n",
      "It's like playing a fun little game to keep ourselves healthy and strong!\n",
      "\n",
      "\n",
      "\n",
      "\n",
      "That's a great question about washing hands. Now, I have another one. What happens when we get a boo-boo, like when we fall down and scrape our knee? How can we make it feel better, and what are some special things we can put on it to help it heal? Should we use a band-aid, or is there something else that's even better?\n",
      "Oh, boo-boos can be so ouchies! \n",
      "\n",
      "When we get a scrape, our skin gets a little broken, and that's like an open door for those tiny germ-bad guys. \n",
      "\n",
      "Here's what we can do to make it feel better:\n",
      "\n",
      "First, we gently wash the boo-boo with soap and water, just like we wash our hands. That helps keep those bad guys away. \n",
      "\n",
      "Then, we can put a special sticker called a band-aid on it. It's like a nice, comfy shield for our skin. The band-aid helps keep the boo-boo clean and protected while it heals. \n",
      "\n",
      "Sometimes, grown-ups will put on a special cream or ointment that feels cool and tingly. It helps the boo-boo heal faster and feels good too!\n",
      "\n",
      "\n",
      "Just like how we give a broken toy a hug and a kiss to make it feel better, we need to be kind to our boo-boos and give them time to heal!  \n",
      "\n",
      "\n",
      "\n",
      "\n",
      "\n",
      "\n",
      "That's a great question!  It's super important to take care of our teeth!  \n",
      "\n",
      "Imagine your teeth are like little white soldiers guarding your mouth. They help you chew your yummy food and make yummy sounds when you say words! \n",
      "\n",
      "To keep those brave soldiers strong, we need to give them a good brushing every morning and every night, kind of like a shower for your teeth!\n",
      "\n",
      "We use a soft toothbrush and toothpaste that tastes yummy, and we brush for about two minutes.  You can even sing a silly song while you brush! \n",
      "\n",
      "Grown-ups can help make sure we reach all the spots!\n",
      "\n",
      "\n",
      "Brushing our teeth helps keep those tiny sugar bugs away that can make our teeth yucky and hurt. \n",
      "\n",
      "Dont' forget to visit the dental doctor for a checkup every now and then - they are like the tooth heroes!\n",
      "\n",
      "\n",
      "\n",
      "\n",
      "\n"
     ]
    }
   ],
   "source": [
    "for i in range(3):\n",
    "    llma_output = llma(llma_messages)\n",
    "    question=llma_output[-1][\"content\"]\n",
    "    print(question)\n",
    "    llma_messages.append({\"role\":\"assistant\",\"content\":question})\n",
    "    message={\"role\":\"user\",\"content\":question}\n",
    "    \n",
    "    gamma_messages.append(message)\n",
    "\n",
    "    gemma_output= gemma(gamma_messages)\n",
    "    reply=gemma_output[-1][\"content\"]\n",
    "    print(reply)\n",
    "    gamma_messages.append({\"role\":\"assistant\",\"content\":reply})\n"
   ]
  }
 ],
 "metadata": {
  "kernelspec": {
   "display_name": "Python 3 (ipykernel)",
   "language": "python",
   "name": "python3"
  },
  "language_info": {
   "codemirror_mode": {
    "name": "ipython",
    "version": 3
   },
   "file_extension": ".py",
   "mimetype": "text/x-python",
   "name": "python",
   "nbconvert_exporter": "python",
   "pygments_lexer": "ipython3",
   "version": "3.11.13"
  }
 },
 "nbformat": 4,
 "nbformat_minor": 5
}
